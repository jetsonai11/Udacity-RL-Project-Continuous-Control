{
 "cells": [
  {
   "cell_type": "markdown",
   "metadata": {},
   "source": [
    "# Continuous Control\n",
    "\n",
    "---\n",
    "\n",
    "In this notebook, you will learn how to use the Unity ML-Agents environment for the second project of the [Deep Reinforcement Learning Nanodegree](https://www.udacity.com/course/deep-reinforcement-learning-nanodegree--nd893) program.\n",
    "\n",
    "### 1. Start the Environment\n",
    "\n",
    "We begin by importing the necessary packages.  If the code cell below returns an error, please revisit the project instructions to double-check that you have installed [Unity ML-Agents](https://github.com/Unity-Technologies/ml-agents/blob/master/docs/Installation.md) and [NumPy](http://www.numpy.org/)."
   ]
  },
  {
   "cell_type": "code",
   "execution_count": 1,
   "metadata": {},
   "outputs": [],
   "source": [
    "from unityagents import UnityEnvironment\n",
    "import numpy as np"
   ]
  },
  {
   "cell_type": "markdown",
   "metadata": {},
   "source": [
    "Next, we will start the environment!  **_Before running the code cell below_**, change the `file_name` parameter to match the location of the Unity environment that you downloaded.\n",
    "\n",
    "- **Mac**: `\"path/to/Reacher.app\"`\n",
    "- **Windows** (x86): `\"path/to/Reacher_Windows_x86/Reacher.exe\"`\n",
    "- **Windows** (x86_64): `\"path/to/Reacher_Windows_x86_64/Reacher.exe\"`\n",
    "- **Linux** (x86): `\"path/to/Reacher_Linux/Reacher.x86\"`\n",
    "- **Linux** (x86_64): `\"path/to/Reacher_Linux/Reacher.x86_64\"`\n",
    "- **Linux** (x86, headless): `\"path/to/Reacher_Linux_NoVis/Reacher.x86\"`\n",
    "- **Linux** (x86_64, headless): `\"path/to/Reacher_Linux_NoVis/Reacher.x86_64\"`\n",
    "\n",
    "For instance, if you are using a Mac, then you downloaded `Reacher.app`.  If this file is in the same folder as the notebook, then the line below should appear as follows:\n",
    "```\n",
    "env = UnityEnvironment(file_name=\"Reacher.app\")\n",
    "```"
   ]
  },
  {
   "cell_type": "code",
   "execution_count": 2,
   "metadata": {},
   "outputs": [
    {
     "name": "stderr",
     "output_type": "stream",
     "text": [
      "INFO:unityagents:\n",
      "'Academy' started successfully!\n",
      "Unity Academy name: Academy\n",
      "        Number of Brains: 1\n",
      "        Number of External Brains : 1\n",
      "        Lesson number : 0\n",
      "        Reset Parameters :\n",
      "\t\tgoal_size -> 5.0\n",
      "\t\tgoal_speed -> 1.0\n",
      "Unity brain name: ReacherBrain\n",
      "        Number of Visual Observations (per agent): 0\n",
      "        Vector Observation space type: continuous\n",
      "        Vector Observation space size (per agent): 33\n",
      "        Number of stacked Vector Observation: 1\n",
      "        Vector Action space type: continuous\n",
      "        Vector Action space size (per agent): 4\n",
      "        Vector Action descriptions: , , , \n"
     ]
    }
   ],
   "source": [
    "env = UnityEnvironment(file_name='Reacher_20.app')"
   ]
  },
  {
   "cell_type": "markdown",
   "metadata": {},
   "source": [
    "Environments contain **_brains_** which are responsible for deciding the actions of their associated agents. Here we check for the first brain available, and set it as the default brain we will be controlling from Python."
   ]
  },
  {
   "cell_type": "code",
   "execution_count": 3,
   "metadata": {},
   "outputs": [],
   "source": [
    "# get the default brain\n",
    "brain_name = env.brain_names[0]\n",
    "brain = env.brains[brain_name]"
   ]
  },
  {
   "cell_type": "markdown",
   "metadata": {},
   "source": [
    "### 2. Examine the State and Action Spaces\n",
    "\n",
    "In this environment, a double-jointed arm can move to target locations. A reward of `+0.1` is provided for each step that the agent's hand is in the goal location. Thus, the goal of your agent is to maintain its position at the target location for as many time steps as possible.\n",
    "\n",
    "The observation space consists of `33` variables corresponding to position, rotation, velocity, and angular velocities of the arm.  Each action is a vector with four numbers, corresponding to torque applicable to two joints.  Every entry in the action vector must be a number between `-1` and `1`.\n",
    "\n",
    "Run the code cell below to print some information about the environment."
   ]
  },
  {
   "cell_type": "code",
   "execution_count": 4,
   "metadata": {},
   "outputs": [
    {
     "name": "stdout",
     "output_type": "stream",
     "text": [
      "Number of agents: 20\n",
      "Size of each action: 4\n",
      "There are 20 agents. Each observes a state with length: 33\n",
      "The state for the first agent looks like: [ 0.00000000e+00 -4.00000000e+00  0.00000000e+00  1.00000000e+00\n",
      " -0.00000000e+00 -0.00000000e+00 -4.37113883e-08  0.00000000e+00\n",
      "  0.00000000e+00  0.00000000e+00  0.00000000e+00  0.00000000e+00\n",
      "  0.00000000e+00  0.00000000e+00 -1.00000000e+01  0.00000000e+00\n",
      "  1.00000000e+00 -0.00000000e+00 -0.00000000e+00 -4.37113883e-08\n",
      "  0.00000000e+00  0.00000000e+00  0.00000000e+00  0.00000000e+00\n",
      "  0.00000000e+00  0.00000000e+00  5.75471878e+00 -1.00000000e+00\n",
      "  5.55726624e+00  0.00000000e+00  1.00000000e+00  0.00000000e+00\n",
      " -1.68164849e-01]\n"
     ]
    }
   ],
   "source": [
    "# reset the environment\n",
    "env_info = env.reset(train_mode=True)[brain_name]\n",
    "\n",
    "# number of agents\n",
    "num_agents = len(env_info.agents)\n",
    "print('Number of agents:', num_agents)\n",
    "\n",
    "# size of each action\n",
    "action_size = brain.vector_action_space_size\n",
    "print('Size of each action:', action_size)\n",
    "\n",
    "# examine the state space \n",
    "states = env_info.vector_observations\n",
    "state_size = states.shape[1]\n",
    "print('There are {} agents. Each observes a state with length: {}'.format(states.shape[0], state_size))\n",
    "print('The state for the first agent looks like:', states[0])"
   ]
  },
  {
   "cell_type": "markdown",
   "metadata": {},
   "source": [
    "### 3. Take Random Actions in the Environment, Pre-training\n",
    "\n",
    "In the next code cell, you will learn how to use the Python API to control the agent and receive feedback from the environment.\n",
    "\n",
    "Once this cell is executed, you will watch the agent's performance, if it selects an action at random with each time step.  A window should pop up that allows you to observe the agent, as it moves through the environment.  \n",
    "\n",
    "Of course, as part of the project, you'll have to change the code so that the agent is able to use its experience to gradually choose better actions when interacting with the environment!"
   ]
  },
  {
   "cell_type": "code",
   "execution_count": 5,
   "metadata": {},
   "outputs": [
    {
     "name": "stdout",
     "output_type": "stream",
     "text": [
      "Total score (averaged over agents) this episode: 0.0\n"
     ]
    }
   ],
   "source": [
    "env_info = env.reset(train_mode=False)[brain_name]     # reset the environment    \n",
    "states = env_info.vector_observations                  # get the current state (for each agent)\n",
    "scores = np.zeros(num_agents)                          # initialize the score (for each agent)\n",
    "while True:\n",
    "    actions = np.random.randn(num_agents, action_size) # select an action (for each agent)\n",
    "    actions = np.clip(actions, -1, 1)                  # all actions between -1 and 1\n",
    "    env_info = env.step(actions)[brain_name]           # send all actions to tne environment\n",
    "    next_states = env_info.vector_observations         # get next state (for each agent)\n",
    "    rewards = env_info.rewards                         # get reward (for each agent)\n",
    "    dones = env_info.local_done                        # see if episode finished\n",
    "    scores += env_info.rewards                         # update the score (for each agent)\n",
    "    states = next_states                               # roll over states to next time step\n",
    "    if np.any(dones):                                  # exit loop if episode finished\n",
    "        break\n",
    "print('Total score (averaged over agents) this episode: {}'.format(np.mean(scores)))"
   ]
  },
  {
   "cell_type": "markdown",
   "metadata": {},
   "source": [
    "When finished, you can close the environment."
   ]
  },
  {
   "cell_type": "code",
   "execution_count": 6,
   "metadata": {},
   "outputs": [],
   "source": [
    "env.close()"
   ]
  },
  {
   "cell_type": "markdown",
   "metadata": {},
   "source": [
    "### 4. Training the Agents"
   ]
  },
  {
   "cell_type": "code",
   "execution_count": 5,
   "metadata": {},
   "outputs": [],
   "source": [
    "from Agent import DDPG_Agent\n",
    "from collections import deque\n",
    "import matplotlib.pyplot as plt\n",
    "import seaborn as sns\n",
    "import numpy as np\n",
    "import torch\n",
    "import time\n",
    "\n",
    "sns.set()\n",
    "%matplotlib inline"
   ]
  },
  {
   "cell_type": "code",
   "execution_count": 6,
   "metadata": {},
   "outputs": [],
   "source": [
    "agent = DDPG_Agent(state_size=state_size, action_size=action_size, random_seed=8)\n",
    "\n",
    "def DDPG(n_episodes=1000, max_t=2000, print_every=10):\n",
    "    \"\"\"\n",
    "    DDPG \n",
    "    \n",
    "    Parameters\n",
    "    ==========\n",
    "        n_episodes (int): maximum number of training episodes\n",
    "        max_t (int): maximum number of timesteps per episode\n",
    "        \n",
    "    \"\"\"\n",
    "    # list containing scores from each episode\n",
    "    scores_global = []      \n",
    "    # last 100 scores\n",
    "    scores_deque = deque(maxlen=100)\n",
    "    \n",
    "    start_time = time.time()\n",
    "    \n",
    "    for i_episode in range(1, n_episodes+1):\n",
    "        # reset the environment\n",
    "        env_info = env.reset(train_mode=True)[brain_name]\n",
    "        # obtain the current state for each agent\n",
    "        states = env_info.vector_observations\n",
    "        # initialize the score (for each agent)\n",
    "        scores = np.zeros(num_agents)\n",
    "        agent.reset()\n",
    "                \n",
    "        for timestep in range(max_t):\n",
    "            # select an action\n",
    "            actions = agent.act(states, add_noise=True)\n",
    "            # send all actions to the environment\n",
    "            env_info = env.step(actions)[brain_name]        \n",
    "            # get the next states for each agent\n",
    "            next_states = env_info.vector_observations\n",
    "            # obtain the rewards for each agent\n",
    "            rewards = env_info.rewards\n",
    "            # see whether or not the episode is finished\n",
    "            dones = env_info.local_done\n",
    "            agent.step(states, actions, rewards, next_states, dones, timestep)\n",
    "            # roll over to the next timestep\n",
    "            states = next_states \n",
    "            # update the scores for each agent\n",
    "            scores += rewards\n",
    "            \n",
    "            if np.any(dones):\n",
    "                break \n",
    "                        \n",
    "        # average the scores of each agent\n",
    "        score = np.mean(scores)\n",
    "        # save most recent score        \n",
    "        scores_deque.append(score) \n",
    "        # save most recent score\n",
    "        scores_global.append(score)             \n",
    "        \n",
    "        # print out some statistics\n",
    "        print('Episode:{}, Score: {:.2f}, Max_score: {:.2f}, Min_score: {:.2f}'.format(\n",
    "              i_episode, score, np.max(scores), np.min(scores)))\n",
    "        \n",
    "        if i_episode % print_every == 0 or (len(scores_deque) == 100 and np.mean(scores_deque) >= 30) :\n",
    "            torch.save(agent.actor_local.state_dict(), 'checkpoint_actor.pth')\n",
    "            torch.save(agent.critic_local.state_dict(), 'checkpoint_critic.pth')\n",
    "            duration = (int)(time.time() - start_time) \n",
    "            print('--- Episode {}, Average Score: {:.2f}, Time: {:02}:{:02}:{:02} ---'\\\n",
    "                  .format(i_episode, np.mean(scores_deque), duration//3600, duration%3600//60, duration%60))\n",
    "\n",
    "        \n",
    "        if len(scores_deque) == 100 and np.mean(scores_deque) >= 30:  \n",
    "            print('\\nEnvironment solved in {:d} episodes!\\tAverage Score: {:.2f}'.format(i_episode, np.mean(scores_deque)))\n",
    "            torch.save(agent.actor_local.state_dict(), 'solved_checkpoint_actor.pth')\n",
    "            torch.save(agent.critic_local.state_dict(), 'solved_checkpoint_critic.pth')\n",
    "            break\n",
    "            \n",
    "            \n",
    "    return scores_global"
   ]
  },
  {
   "cell_type": "code",
   "execution_count": 7,
   "metadata": {},
   "outputs": [
    {
     "name": "stdout",
     "output_type": "stream",
     "text": [
      "Episode:1, Score: 0.60, Max_score: 1.31, Min_score: 0.14\n",
      "Episode:2, Score: 0.69, Max_score: 2.28, Min_score: 0.14\n",
      "Episode:3, Score: 0.68, Max_score: 1.51, Min_score: 0.00\n",
      "Episode:4, Score: 0.81, Max_score: 2.12, Min_score: 0.00\n",
      "Episode:5, Score: 0.99, Max_score: 2.78, Min_score: 0.24\n",
      "Episode:6, Score: 1.36, Max_score: 3.13, Min_score: 0.37\n",
      "Episode:7, Score: 1.31, Max_score: 2.56, Min_score: 0.45\n",
      "Episode:8, Score: 1.16, Max_score: 2.14, Min_score: 0.25\n",
      "Episode:9, Score: 0.97, Max_score: 2.28, Min_score: 0.21\n",
      "Episode:10, Score: 1.34, Max_score: 3.39, Min_score: 0.27\n",
      "--- Episode 10, Average Score: 0.99, Time: 00:03:06 ---\n",
      "Episode:11, Score: 1.53, Max_score: 3.59, Min_score: 0.22\n",
      "Episode:12, Score: 1.45, Max_score: 2.57, Min_score: 0.59\n",
      "Episode:13, Score: 0.79, Max_score: 2.55, Min_score: 0.00\n",
      "Episode:14, Score: 1.06, Max_score: 3.19, Min_score: 0.14\n",
      "Episode:15, Score: 1.62, Max_score: 3.42, Min_score: 0.65\n",
      "Episode:16, Score: 1.69, Max_score: 3.85, Min_score: 0.43\n",
      "Episode:17, Score: 1.45, Max_score: 2.94, Min_score: 0.15\n",
      "Episode:18, Score: 2.46, Max_score: 4.19, Min_score: 0.95\n",
      "Episode:19, Score: 2.26, Max_score: 3.71, Min_score: 1.22\n",
      "Episode:20, Score: 2.03, Max_score: 2.98, Min_score: 1.07\n",
      "--- Episode 20, Average Score: 1.31, Time: 00:06:42 ---\n",
      "Episode:21, Score: 2.11, Max_score: 4.33, Min_score: 0.56\n",
      "Episode:22, Score: 2.42, Max_score: 4.65, Min_score: 0.89\n",
      "Episode:23, Score: 2.20, Max_score: 3.62, Min_score: 0.36\n",
      "Episode:24, Score: 2.82, Max_score: 4.83, Min_score: 1.66\n",
      "Episode:25, Score: 3.25, Max_score: 5.02, Min_score: 1.59\n",
      "Episode:26, Score: 3.22, Max_score: 5.74, Min_score: 1.61\n",
      "Episode:27, Score: 2.49, Max_score: 4.55, Min_score: 0.28\n",
      "Episode:28, Score: 3.22, Max_score: 5.41, Min_score: 1.21\n",
      "Episode:29, Score: 3.23, Max_score: 4.55, Min_score: 1.78\n",
      "Episode:30, Score: 3.79, Max_score: 12.07, Min_score: 1.41\n",
      "--- Episode 30, Average Score: 1.83, Time: 00:10:38 ---\n",
      "Episode:31, Score: 2.68, Max_score: 5.28, Min_score: 1.22\n",
      "Episode:32, Score: 3.15, Max_score: 14.77, Min_score: 0.00\n",
      "Episode:33, Score: 3.82, Max_score: 7.35, Min_score: 1.72\n",
      "Episode:34, Score: 3.12, Max_score: 4.81, Min_score: 1.33\n",
      "Episode:35, Score: 2.86, Max_score: 6.86, Min_score: 0.73\n",
      "Episode:36, Score: 3.03, Max_score: 6.43, Min_score: 1.07\n",
      "Episode:37, Score: 3.57, Max_score: 9.06, Min_score: 1.52\n",
      "Episode:38, Score: 3.37, Max_score: 6.96, Min_score: 0.97\n",
      "Episode:39, Score: 3.47, Max_score: 6.39, Min_score: 1.90\n",
      "Episode:40, Score: 4.38, Max_score: 7.78, Min_score: 2.21\n",
      "--- Episode 40, Average Score: 2.21, Time: 00:15:00 ---\n",
      "Episode:41, Score: 4.34, Max_score: 16.30, Min_score: 1.66\n",
      "Episode:42, Score: 3.76, Max_score: 7.23, Min_score: 1.77\n",
      "Episode:43, Score: 5.22, Max_score: 11.43, Min_score: 1.98\n",
      "Episode:44, Score: 4.30, Max_score: 9.94, Min_score: 1.80\n",
      "Episode:45, Score: 6.52, Max_score: 14.05, Min_score: 3.14\n",
      "Episode:46, Score: 6.12, Max_score: 8.83, Min_score: 3.87\n",
      "Episode:47, Score: 7.37, Max_score: 21.43, Min_score: 0.83\n",
      "Episode:48, Score: 7.04, Max_score: 20.64, Min_score: 2.72\n",
      "Episode:49, Score: 5.52, Max_score: 10.42, Min_score: 0.56\n",
      "Episode:50, Score: 7.90, Max_score: 11.60, Min_score: 4.51\n",
      "--- Episode 50, Average Score: 2.93, Time: 00:20:01 ---\n",
      "Episode:51, Score: 8.05, Max_score: 14.82, Min_score: 4.63\n",
      "Episode:52, Score: 9.53, Max_score: 21.90, Min_score: 4.15\n",
      "Episode:53, Score: 8.55, Max_score: 13.47, Min_score: 0.69\n",
      "Episode:54, Score: 9.48, Max_score: 14.11, Min_score: 6.09\n",
      "Episode:55, Score: 9.69, Max_score: 19.73, Min_score: 6.52\n",
      "Episode:56, Score: 9.08, Max_score: 13.95, Min_score: 2.24\n",
      "Episode:57, Score: 9.45, Max_score: 16.02, Min_score: 5.74\n",
      "Episode:58, Score: 10.79, Max_score: 25.26, Min_score: 6.03\n",
      "Episode:59, Score: 11.80, Max_score: 17.36, Min_score: 5.29\n",
      "Episode:60, Score: 12.60, Max_score: 25.74, Min_score: 6.56\n",
      "--- Episode 60, Average Score: 4.09, Time: 00:24:59 ---\n",
      "Episode:61, Score: 12.15, Max_score: 24.44, Min_score: 4.77\n",
      "Episode:62, Score: 11.92, Max_score: 18.01, Min_score: 4.22\n",
      "Episode:63, Score: 11.31, Max_score: 17.46, Min_score: 6.35\n",
      "Episode:64, Score: 11.59, Max_score: 23.34, Min_score: 5.65\n",
      "Episode:65, Score: 13.53, Max_score: 30.59, Min_score: 7.18\n",
      "Episode:66, Score: 13.52, Max_score: 20.33, Min_score: 7.93\n",
      "Episode:67, Score: 12.52, Max_score: 17.70, Min_score: 8.02\n",
      "Episode:68, Score: 11.88, Max_score: 17.83, Min_score: 4.11\n",
      "Episode:69, Score: 14.79, Max_score: 24.70, Min_score: 6.15\n",
      "Episode:70, Score: 11.76, Max_score: 16.04, Min_score: 5.98\n",
      "--- Episode 70, Average Score: 5.29, Time: 00:30:41 ---\n",
      "Episode:71, Score: 15.18, Max_score: 29.15, Min_score: 8.58\n",
      "Episode:72, Score: 14.92, Max_score: 27.47, Min_score: 6.71\n",
      "Episode:73, Score: 14.48, Max_score: 24.92, Min_score: 9.68\n",
      "Episode:74, Score: 15.07, Max_score: 20.89, Min_score: 9.96\n",
      "Episode:75, Score: 14.01, Max_score: 22.20, Min_score: 7.65\n",
      "Episode:76, Score: 16.62, Max_score: 26.18, Min_score: 9.53\n",
      "Episode:77, Score: 16.40, Max_score: 28.56, Min_score: 3.14\n",
      "Episode:78, Score: 17.58, Max_score: 33.04, Min_score: 9.02\n",
      "Episode:79, Score: 16.95, Max_score: 24.69, Min_score: 8.95\n",
      "Episode:80, Score: 17.58, Max_score: 27.93, Min_score: 8.70\n",
      "--- Episode 80, Average Score: 6.62, Time: 00:35:27 ---\n",
      "Episode:81, Score: 19.22, Max_score: 26.78, Min_score: 7.62\n",
      "Episode:82, Score: 19.48, Max_score: 25.86, Min_score: 7.81\n",
      "Episode:83, Score: 18.10, Max_score: 26.22, Min_score: 7.72\n",
      "Episode:84, Score: 18.88, Max_score: 27.05, Min_score: 9.97\n",
      "Episode:85, Score: 18.51, Max_score: 28.39, Min_score: 2.14\n",
      "Episode:86, Score: 19.16, Max_score: 25.59, Min_score: 12.26\n",
      "Episode:87, Score: 19.61, Max_score: 25.28, Min_score: 11.37\n",
      "Episode:88, Score: 19.16, Max_score: 28.93, Min_score: 8.76\n",
      "Episode:89, Score: 19.48, Max_score: 27.42, Min_score: 9.61\n",
      "Episode:90, Score: 20.28, Max_score: 28.78, Min_score: 6.74\n",
      "--- Episode 90, Average Score: 8.01, Time: 00:40:13 ---\n",
      "Episode:91, Score: 22.19, Max_score: 30.18, Min_score: 12.60\n",
      "Episode:92, Score: 20.67, Max_score: 28.27, Min_score: 7.21\n",
      "Episode:93, Score: 23.60, Max_score: 36.83, Min_score: 8.17\n",
      "Episode:94, Score: 22.83, Max_score: 29.90, Min_score: 13.95\n",
      "Episode:95, Score: 23.33, Max_score: 27.05, Min_score: 13.60\n",
      "Episode:96, Score: 25.20, Max_score: 37.99, Min_score: 21.00\n",
      "Episode:97, Score: 23.81, Max_score: 30.66, Min_score: 11.64\n",
      "Episode:98, Score: 23.67, Max_score: 33.47, Min_score: 16.95\n",
      "Episode:99, Score: 23.24, Max_score: 29.68, Min_score: 12.52\n",
      "Episode:100, Score: 22.96, Max_score: 28.25, Min_score: 14.14\n",
      "--- Episode 100, Average Score: 9.53, Time: 00:45:00 ---\n",
      "Episode:101, Score: 23.62, Max_score: 29.46, Min_score: 17.07\n",
      "Episode:102, Score: 24.67, Max_score: 38.04, Min_score: 12.53\n",
      "Episode:103, Score: 25.78, Max_score: 39.02, Min_score: 15.49\n",
      "Episode:104, Score: 25.02, Max_score: 30.20, Min_score: 18.19\n",
      "Episode:105, Score: 23.78, Max_score: 31.35, Min_score: 11.46\n",
      "Episode:106, Score: 25.21, Max_score: 39.00, Min_score: 16.38\n",
      "Episode:107, Score: 24.89, Max_score: 29.31, Min_score: 14.67\n",
      "Episode:108, Score: 23.84, Max_score: 33.12, Min_score: 13.12\n",
      "Episode:109, Score: 27.07, Max_score: 33.21, Min_score: 19.69\n",
      "Episode:110, Score: 24.70, Max_score: 29.44, Min_score: 16.93\n",
      "--- Episode 110, Average Score: 11.91, Time: 00:49:46 ---\n",
      "Episode:111, Score: 24.56, Max_score: 34.05, Min_score: 15.30\n",
      "Episode:112, Score: 27.56, Max_score: 32.89, Min_score: 19.25\n",
      "Episode:113, Score: 28.37, Max_score: 35.14, Min_score: 22.31\n",
      "Episode:114, Score: 24.86, Max_score: 31.55, Min_score: 14.55\n",
      "Episode:115, Score: 27.80, Max_score: 35.46, Min_score: 18.61\n",
      "Episode:116, Score: 29.74, Max_score: 38.60, Min_score: 20.81\n",
      "Episode:117, Score: 30.63, Max_score: 38.35, Min_score: 21.29\n",
      "Episode:118, Score: 29.10, Max_score: 37.53, Min_score: 19.56\n",
      "Episode:119, Score: 29.23, Max_score: 38.19, Min_score: 16.34\n",
      "Episode:120, Score: 30.60, Max_score: 36.99, Min_score: 22.43\n",
      "--- Episode 120, Average Score: 14.58, Time: 00:54:32 ---\n",
      "Episode:121, Score: 30.35, Max_score: 37.72, Min_score: 18.69\n",
      "Episode:122, Score: 28.99, Max_score: 39.36, Min_score: 17.56\n",
      "Episode:123, Score: 31.85, Max_score: 37.81, Min_score: 22.14\n",
      "Episode:124, Score: 30.65, Max_score: 38.82, Min_score: 22.90\n",
      "Episode:125, Score: 32.72, Max_score: 39.03, Min_score: 22.40\n",
      "Episode:126, Score: 31.46, Max_score: 38.16, Min_score: 24.10\n"
     ]
    },
    {
     "name": "stdout",
     "output_type": "stream",
     "text": [
      "Episode:127, Score: 31.91, Max_score: 38.14, Min_score: 20.82\n",
      "Episode:128, Score: 31.88, Max_score: 38.86, Min_score: 21.80\n",
      "Episode:129, Score: 32.46, Max_score: 38.57, Min_score: 22.64\n",
      "Episode:130, Score: 32.23, Max_score: 37.80, Min_score: 22.21\n",
      "--- Episode 130, Average Score: 17.43, Time: 00:59:50 ---\n",
      "Episode:131, Score: 32.98, Max_score: 39.42, Min_score: 21.01\n",
      "Episode:132, Score: 35.66, Max_score: 39.62, Min_score: 25.21\n",
      "Episode:133, Score: 34.48, Max_score: 39.51, Min_score: 23.06\n",
      "Episode:134, Score: 35.25, Max_score: 39.59, Min_score: 23.02\n",
      "Episode:135, Score: 35.85, Max_score: 39.28, Min_score: 20.17\n",
      "Episode:136, Score: 36.33, Max_score: 39.59, Min_score: 25.17\n",
      "Episode:137, Score: 36.41, Max_score: 39.25, Min_score: 26.06\n",
      "Episode:138, Score: 36.40, Max_score: 39.55, Min_score: 25.19\n",
      "Episode:139, Score: 36.32, Max_score: 39.60, Min_score: 28.97\n",
      "Episode:140, Score: 36.57, Max_score: 39.20, Min_score: 25.08\n",
      "--- Episode 140, Average Score: 20.66, Time: 01:05:00 ---\n",
      "Episode:141, Score: 36.16, Max_score: 39.35, Min_score: 28.61\n",
      "Episode:142, Score: 36.66, Max_score: 39.27, Min_score: 30.02\n",
      "Episode:143, Score: 37.86, Max_score: 39.62, Min_score: 30.74\n",
      "Episode:144, Score: 37.09, Max_score: 39.41, Min_score: 29.82\n",
      "Episode:145, Score: 37.05, Max_score: 39.30, Min_score: 31.65\n",
      "Episode:146, Score: 36.55, Max_score: 38.60, Min_score: 31.01\n",
      "Episode:147, Score: 36.99, Max_score: 39.24, Min_score: 31.60\n",
      "Episode:148, Score: 37.39, Max_score: 39.08, Min_score: 32.87\n",
      "Episode:149, Score: 37.78, Max_score: 39.47, Min_score: 34.59\n",
      "Episode:150, Score: 37.63, Max_score: 39.34, Min_score: 33.14\n",
      "--- Episode 150, Average Score: 23.79, Time: 01:09:49 ---\n",
      "Episode:151, Score: 37.55, Max_score: 39.28, Min_score: 33.24\n",
      "Episode:152, Score: 37.70, Max_score: 39.36, Min_score: 34.62\n",
      "Episode:153, Score: 38.48, Max_score: 39.53, Min_score: 37.04\n",
      "Episode:154, Score: 38.01, Max_score: 39.36, Min_score: 35.47\n",
      "Episode:155, Score: 36.96, Max_score: 39.29, Min_score: 34.52\n",
      "Episode:156, Score: 37.84, Max_score: 39.25, Min_score: 35.77\n",
      "Episode:157, Score: 37.39, Max_score: 39.47, Min_score: 35.70\n",
      "Episode:158, Score: 37.11, Max_score: 38.98, Min_score: 33.78\n",
      "Episode:159, Score: 37.47, Max_score: 39.08, Min_score: 33.84\n",
      "Episode:160, Score: 36.61, Max_score: 38.14, Min_score: 32.84\n",
      "--- Episode 160, Average Score: 26.55, Time: 01:14:36 ---\n",
      "Episode:161, Score: 37.69, Max_score: 39.42, Min_score: 34.31\n",
      "Episode:162, Score: 37.27, Max_score: 39.38, Min_score: 33.62\n",
      "Episode:163, Score: 37.57, Max_score: 39.39, Min_score: 31.75\n",
      "Episode:164, Score: 37.07, Max_score: 39.43, Min_score: 29.81\n",
      "Episode:165, Score: 37.11, Max_score: 38.42, Min_score: 35.00\n",
      "Episode:166, Score: 35.30, Max_score: 38.87, Min_score: 30.77\n",
      "Episode:167, Score: 36.89, Max_score: 39.57, Min_score: 32.23\n",
      "Episode:168, Score: 36.87, Max_score: 39.18, Min_score: 30.46\n",
      "Episode:169, Score: 37.47, Max_score: 39.35, Min_score: 34.62\n",
      "Episode:170, Score: 37.91, Max_score: 39.24, Min_score: 35.60\n",
      "--- Episode 170, Average Score: 29.01, Time: 01:19:23 ---\n",
      "Episode:171, Score: 38.21, Max_score: 39.28, Min_score: 35.66\n",
      "Episode:172, Score: 37.81, Max_score: 38.87, Min_score: 36.04\n",
      "Episode:173, Score: 37.92, Max_score: 39.19, Min_score: 35.77\n",
      "Episode:174, Score: 37.88, Max_score: 39.52, Min_score: 35.44\n",
      "Episode:175, Score: 37.36, Max_score: 39.50, Min_score: 32.47\n",
      "--- Episode 175, Average Score: 30.17, Time: 01:21:47 ---\n",
      "\n",
      "Environment solved in 175 episodes!\tAverage Score: 30.17\n"
     ]
    }
   ],
   "source": [
    "scores = DDPG()"
   ]
  },
  {
   "cell_type": "code",
   "execution_count": 11,
   "metadata": {},
   "outputs": [
    {
     "data": {
      "image/png": "[encoded data removed]",
      "text/plain": [
       "<Figure size 864x576 with 1 Axes>"
      ]
     },
     "metadata": {
      "needs_background": "light"
     },
     "output_type": "display_data"
    }
   ],
   "source": [
    "fig = plt.figure(figsize=[12,8])\n",
    "plt.plot(np.arange(1, len(scores)+1), scores)\n",
    "plt.ylabel('Score', fontsize=14)\n",
    "plt.xlabel('Episode', fontsize=14)\n",
    "plt.title('Plot of Rewards', fontsize=16)\n",
    "plt.show()"
   ]
  },
  {
   "cell_type": "markdown",
   "metadata": {},
   "source": [
    "### 5. Observe the Trained Agents Perform!"
   ]
  },
  {
   "cell_type": "code",
   "execution_count": 7,
   "metadata": {},
   "outputs": [],
   "source": [
    "New_Agent = DDPG_Agent(33, 4, 8)"
   ]
  },
  {
   "cell_type": "code",
   "execution_count": 8,
   "metadata": {},
   "outputs": [],
   "source": [
    "def load(New_Agent, actor_file, critic_file):\n",
    "    New_Agent.actor_local.load_state_dict(torch.load(actor_file))\n",
    "    New_Agent.actor_target.load_state_dict(torch.load(actor_file))\n",
    "    New_Agent.critic_local.load_state_dict(torch.load(critic_file))\n",
    "    New_Agent.critic_target.load_state_dict(torch.load(critic_file))\n",
    "    \n",
    "load(New_Agent, 'checkpoint_actor.pth', 'checkpoint_critic.pth')   "
   ]
  },
  {
   "cell_type": "code",
   "execution_count": 9,
   "metadata": {},
   "outputs": [],
   "source": [
    "def play(agent, episodes=5):\n",
    "    action_size=4\n",
    "    num_agents=20\n",
    "    for i_episode in range(episodes):\n",
    "        env_info = env.reset(train_mode=False)[brain_name]     # reset the environment    \n",
    "        states = env_info.vector_observations                  # get the current state (for each agent)\n",
    "        scores = np.zeros(num_agents)                          # initialize the score (for each agent)\n",
    "        while True:\n",
    "            actions = agent.act(states, add_noise=False)       # all actions between -1 and 1\n",
    "            env_info = env.step(actions)[brain_name]           # send all actions to tne environment\n",
    "            next_states = env_info.vector_observations         # get next state (for each agent)\n",
    "            rewards = env_info.rewards                         # get reward (for each agent)\n",
    "            dones = env_info.local_done                        # see if episode finished\n",
    "            scores += env_info.rewards                         # update the score (for each agent)\n",
    "            states = next_states                               # roll over states to next time step\n",
    "            if np.any(dones):                                  # exit loop if episode finished\n",
    "                break\n",
    "            #break\n",
    "        print('Episode: {} Average Score (over agents): {}'.format(i_episode, np.mean(scores)))"
   ]
  },
  {
   "cell_type": "code",
   "execution_count": 10,
   "metadata": {},
   "outputs": [
    {
     "name": "stdout",
     "output_type": "stream",
     "text": [
      "Episode: 0 Average Score (over agents): 36.58699918221682\n",
      "Episode: 1 Average Score (over agents): 38.213999145850536\n",
      "Episode: 2 Average Score (over agents): 37.34449916528538\n"
     ]
    }
   ],
   "source": [
    "play(New_Agent, 3)"
   ]
  },
  {
   "cell_type": "code",
   "execution_count": null,
   "metadata": {},
   "outputs": [],
   "source": []
  }
 ],
 "metadata": {
  "kernelspec": {
   "display_name": "drlnd",
   "language": "python",
   "name": "drlnd"
  },
  "language_info": {
   "codemirror_mode": {
    "name": "ipython",
    "version": 3
   },
   "file_extension": ".py",
   "mimetype": "text/x-python",
   "name": "python",
   "nbconvert_exporter": "python",
   "pygments_lexer": "ipython3",
   "version": "3.6.10"
  }
 },
 "nbformat": 4,
 "nbformat_minor": 2
}
